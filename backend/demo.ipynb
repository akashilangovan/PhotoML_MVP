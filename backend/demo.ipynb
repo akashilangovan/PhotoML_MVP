{
 "cells": [
  {
   "cell_type": "code",
   "execution_count": 1,
   "metadata": {},
   "outputs": [],
   "source": [
    "import os\n",
    "from inference import inference, visualize_outputs"
   ]
  },
  {
   "cell_type": "code",
   "execution_count": 2,
   "metadata": {},
   "outputs": [],
   "source": [
    "folder_path = \"/Users/akashilangovan/photoml/testing/test_dir\"\n",
    "image_names = os.listdir(folder_path)\n",
    "image_paths = [os.path.join(folder_path, i) for i in image_names if (i.endswith(\"jpg\") or i.endswith(\"png\") or i.endswith(\"jpeg\"))]"
   ]
  },
  {
   "cell_type": "code",
   "execution_count": 3,
   "metadata": {},
   "outputs": [
    {
     "name": "stdout",
     "output_type": "stream",
     "text": [
      "Computing features from MobileNetV3...\n"
     ]
    },
    {
     "name": "stderr",
     "output_type": "stream",
     "text": [
      "100%|██████████| 13/13 [00:40<00:00,  3.15s/it]\n"
     ]
    },
    {
     "name": "stdout",
     "output_type": "stream",
     "text": [
      "Classifying images...\n"
     ]
    },
    {
     "name": "stderr",
     "output_type": "stream",
     "text": [
      "100%|██████████| 51/51 [00:57<00:00,  1.14s/it]\n"
     ]
    }
   ],
   "source": [
    "predictions = inference(\n",
    "    image_paths=image_paths,\n",
    "    weights_path=\"classifier.pth\",\n",
    "    bucket_ratios = {\"culled\": 0.65, \"selected\": 0.05, \"maybe\": 0.3},\n",
    "    device = \"cpu\"\n",
    ")"
   ]
  },
  {
   "cell_type": "code",
   "execution_count": 4,
   "metadata": {},
   "outputs": [
    {
     "name": "stdout",
     "output_type": "stream",
     "text": [
      "Culled : 577\n",
      "Selected : 36\n",
      "Maybe : 201\n"
     ]
    }
   ],
   "source": [
    "print(f\"Culled : {sum([i == 'culled' for i in predictions.values()])}\")\n",
    "print(f\"Selected : {sum([i == 'selected' for i in predictions.values()])}\")\n",
    "print(f\"Maybe : {sum([i == 'maybe' for i in predictions.values()])}\")"
   ]
  },
  {
   "cell_type": "code",
   "execution_count": 5,
   "metadata": {},
   "outputs": [],
   "source": [
    "visualize_outputs(predictions, \"/Users/gursi/Desktop/output\")"
   ]
  }
 ],
 "metadata": {
  "kernelspec": {
   "display_name": "ml",
   "language": "python",
   "name": "python3"
  },
  "language_info": {
   "codemirror_mode": {
    "name": "ipython",
    "version": 3
   },
   "file_extension": ".py",
   "mimetype": "text/x-python",
   "name": "python",
   "nbconvert_exporter": "python",
   "pygments_lexer": "ipython3",
   "version": "3.11.0"
  },
  "orig_nbformat": 4
 },
 "nbformat": 4,
 "nbformat_minor": 2
}
